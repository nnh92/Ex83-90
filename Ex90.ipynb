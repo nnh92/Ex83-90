{
  "nbformat": 4,
  "nbformat_minor": 0,
  "metadata": {
    "colab": {
      "provenance": [],
      "authorship_tag": "ABX9TyOIVgrE7flZesJSlknyFIAC",
      "include_colab_link": true
    },
    "kernelspec": {
      "name": "python3",
      "display_name": "Python 3"
    },
    "language_info": {
      "name": "python"
    }
  },
  "cells": [
    {
      "cell_type": "markdown",
      "metadata": {
        "id": "view-in-github",
        "colab_type": "text"
      },
      "source": [
        "<a href=\"https://colab.research.google.com/github/nnh92/Ex83-90/blob/main/Ex90.ipynb\" target=\"_parent\"><img src=\"https://colab.research.google.com/assets/colab-badge.svg\" alt=\"Open In Colab\"/></a>"
      ]
    },
    {
      "cell_type": "code",
      "execution_count": 3,
      "metadata": {
        "id": "Ajwki6mexVHF"
      },
      "outputs": [],
      "source": [
        "def Xu_Ly_DL(s1, s2):\n",
        "  lst = [lst1]\n",
        "\n",
        "\n",
        "\n",
        "\n",
        "\n",
        "s1 = list(map(str, input('Nhap day 1: ').split()))\n",
        "\n",
        "s2 = list(map(str, input('Nhap day 2: ').split()))\n",
        "\n",
        "\n",
        "\n",
        "\n",
        "\n",
        "\n",
        "\n"
      ]
    }
  ]
}