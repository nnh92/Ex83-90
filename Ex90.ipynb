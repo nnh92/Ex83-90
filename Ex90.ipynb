{
  "nbformat": 4,
  "nbformat_minor": 0,
  "metadata": {
    "colab": {
      "provenance": [],
      "authorship_tag": "ABX9TyOVU7Kw27FyNn2ffSSUsbSR",
      "include_colab_link": true
    },
    "kernelspec": {
      "name": "python3",
      "display_name": "Python 3"
    },
    "language_info": {
      "name": "python"
    }
  },
  "cells": [
    {
      "cell_type": "markdown",
      "metadata": {
        "id": "view-in-github",
        "colab_type": "text"
      },
      "source": [
        "<a href=\"https://colab.research.google.com/github/nnh92/Ex83-90/blob/main/Ex90.ipynb\" target=\"_parent\"><img src=\"https://colab.research.google.com/assets/colab-badge.svg\" alt=\"Open In Colab\"/></a>"
      ]
    },
    {
      "cell_type": "code",
      "execution_count": 7,
      "metadata": {
        "id": "Ajwki6mexVHF",
        "outputId": "563852a1-542c-4e2c-d46e-c2113c3ffaf6",
        "colab": {
          "base_uri": "https://localhost:8080/"
        }
      },
      "outputs": [
        {
          "output_type": "stream",
          "name": "stdout",
          "text": [
            "Nhap day 1: 1 2 3\n",
            "Nhap day 2: 2 3 4\n",
            "['1', '4']\n"
          ]
        }
      ],
      "source": [
        "def Xu_Ly_DL(s1, s2):\n",
        "  for i in s2:\n",
        "    s1.append(i)\n",
        "  lst = [j for j in s1 if s1.count(j) == 1]\n",
        "  return lst\n",
        "\n",
        "s1 = list(map(str, input('Nhap day 1: ').split()))\n",
        "\n",
        "s2 = list(map(str, input('Nhap day 2: ').split()))\n",
        "\n",
        "print(Xu_Ly_DL(s1, s2))\n"
      ]
    }
  ]
}