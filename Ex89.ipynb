{
  "nbformat": 4,
  "nbformat_minor": 0,
  "metadata": {
    "colab": {
      "provenance": [],
      "authorship_tag": "ABX9TyNtK8xiigJ8wcG9eVwQF9A4",
      "include_colab_link": true
    },
    "kernelspec": {
      "name": "python3",
      "display_name": "Python 3"
    },
    "language_info": {
      "name": "python"
    }
  },
  "cells": [
    {
      "cell_type": "markdown",
      "metadata": {
        "id": "view-in-github",
        "colab_type": "text"
      },
      "source": [
        "<a href=\"https://colab.research.google.com/github/nnh92/Ex83-90/blob/main/Ex89.ipynb\" target=\"_parent\"><img src=\"https://colab.research.google.com/assets/colab-badge.svg\" alt=\"Open In Colab\"/></a>"
      ]
    },
    {
      "cell_type": "code",
      "execution_count": null,
      "metadata": {
        "id": "uiPwxk6K5v-O",
        "colab": {
          "base_uri": "https://localhost:8080/"
        },
        "outputId": "b08ca51f-c978-41b7-b003-dbae6925fb0c"
      },
      "outputs": [
        {
          "output_type": "stream",
          "name": "stdout",
          "text": [
            "Nhap day so: 4 7 9 3 5 6 6 8 2\n",
            "Trung binh:  5.555555555555555\n",
            "Day nho hon trung binh:  4.0 3.0 5.0 2.0\n",
            "Day lon hon trung binh:  7.0 9.0 6.0 6.0 8.0\n"
          ]
        }
      ],
      "source": [
        "def Loc_DL(s):\n",
        "  ave = sum(s)/len(s)\n",
        "  lst_up = [i for i in s if i < ave]\n",
        "  lst_dn = [i for i in s if i >= ave]\n",
        "  return lst_up, lst_dn, ave\n",
        "\n",
        "s = list(map(float, input('Nhap day so: ').split()))\n",
        "\n",
        "lst_up = Loc_DL(s)[0]\n",
        "lst_dn = Loc_DL(s)[1]\n",
        "\n",
        "print('Trung binh: ', Loc_DL(s)[2])\n",
        "print('Day nho hon trung binh: ', *lst_up)\n",
        "print('Day lon hon trung binh: ', *lst_dn)\n"
      ]
    }
  ]
}