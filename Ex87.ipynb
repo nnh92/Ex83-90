{
  "nbformat": 4,
  "nbformat_minor": 0,
  "metadata": {
    "colab": {
      "provenance": [],
      "authorship_tag": "ABX9TyMV4znql68Rp4r/LwAxFuPa",
      "include_colab_link": true
    },
    "kernelspec": {
      "name": "python3",
      "display_name": "Python 3"
    },
    "language_info": {
      "name": "python"
    }
  },
  "cells": [
    {
      "cell_type": "markdown",
      "metadata": {
        "id": "view-in-github",
        "colab_type": "text"
      },
      "source": [
        "<a href=\"https://colab.research.google.com/github/nnh92/Ex83-90/blob/main/Ex87.ipynb\" target=\"_parent\"><img src=\"https://colab.research.google.com/assets/colab-badge.svg\" alt=\"Open In Colab\"/></a>"
      ]
    },
    {
      "cell_type": "code",
      "execution_count": 3,
      "metadata": {
        "id": "MgHg4J7vVHp-",
        "colab": {
          "base_uri": "https://localhost:8080/"
        },
        "outputId": "f1c1280e-80a0-41f9-a594-afcb1b1cd360"
      },
      "outputs": [
        {
          "output_type": "stream",
          "name": "stdout",
          "text": [
            "Nhap danh sach 1: 1 2 3\n",
            "Nhap danh sach 2: 4 5 6\n",
            "[6.0, 10.0, 12.0]\n"
          ]
        }
      ],
      "source": [
        "def XuLyDL(s1, s2):\n",
        "  lst = [lst1*lst2 for lst1, lst2 in zip(s1,s2[::-1])]\n",
        "  return lst\n",
        "\n",
        "s1 = list(map(float, input('Nhap danh sach 1: ').split()))\n",
        "\n",
        "s2 = list(map(float, input('Nhap danh sach 2: ').split()))\n",
        "\n",
        "print(XuLyDL(s1, s2))\n"
      ]
    }
  ]
}